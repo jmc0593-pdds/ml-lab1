{
 "cells": [
  {
   "cell_type": "markdown",
   "id": "2563b9f3-9ed3-4f2e-bb0c-46b649e333fc",
   "metadata": {},
   "source": [
    "# Instalando libreria"
   ]
  },
  {
   "cell_type": "markdown",
   "id": "ccb89418",
   "metadata": {},
   "source": [
    "# Instalando dependencias"
   ]
  },
  {
   "cell_type": "code",
   "execution_count": null,
   "id": "e84a08f9",
   "metadata": {},
   "outputs": [],
   "source": []
  },
  {
   "cell_type": "code",
   "execution_count": null,
   "id": "f68b590c-1aa0-427c-afcb-bf94a1c4c1fa",
   "metadata": {},
   "outputs": [
    {
     "name": "stderr",
     "output_type": "stream",
     "text": [
      "2025-10-25 12:53:29.145706: I tensorflow/core/util/port.cc:153] oneDNN custom operations are on. You may see slightly different numerical results due to floating-point round-off errors from different computation orders. To turn them off, set the environment variable `TF_ENABLE_ONEDNN_OPTS=0`.\n",
      "2025-10-25 12:53:29.192914: I tensorflow/core/platform/cpu_feature_guard.cc:210] This TensorFlow binary is optimized to use available CPU instructions in performance-critical operations.\n",
      "To enable the following instructions: AVX2 AVX_VNNI FMA, in other operations, rebuild TensorFlow with the appropriate compiler flags.\n",
      "2025-10-25 12:53:30.176971: I tensorflow/core/util/port.cc:153] oneDNN custom operations are on. You may see slightly different numerical results due to floating-point round-off errors from different computation orders. To turn them off, set the environment variable `TF_ENABLE_ONEDNN_OPTS=0`.\n",
      "/media/jorge/Files/study/Galileo/PDDS/4 Trimester/machine_learning/venv/lib/python3.12/site-packages/tqdm/auto.py:21: TqdmWarning: IProgress not found. Please update jupyter and ipywidgets. See https://ipywidgets.readthedocs.io/en/stable/user_install.html\n",
      "  from .autonotebook import tqdm as notebook_tqdm\n",
      "Gym has been unmaintained since 2022 and does not support NumPy 2.0 amongst other critical functionality.\n",
      "Please upgrade to Gymnasium, the maintained drop-in replacement of Gym, or contact the authors of your software and request that they upgrade.\n",
      "Users of this version of Gym should be able to simply replace 'import gym' with 'import gymnasium as gym' in the vast majority of cases.\n",
      "See the migration guide at https://gymnasium.farama.org/introduction/migration_guide/ for additional information.\n"
     ]
    }
   ],
   "source": [
    "\n",
    "# Imports\n",
    "import tensorflow as tf\n",
    "import matplotlib.pyplot as plt\n",
    "import mitdeeplearning as mdl\n",
    "import numpy as np\n",
    "import math\n",
    "import matplotlib.pyplot as plt"
   ]
  },
  {
   "cell_type": "markdown",
   "id": "38c53d7e",
   "metadata": {},
   "source": [
    "# Sección 1: Cálculo de Derivadas y Gradientes \n",
    "## Función 1"
   ]
  },
  {
   "cell_type": "code",
   "execution_count": 70,
   "id": "a4f47239-3587-437b-9fd9-65fbd9ed1c3b",
   "metadata": {},
   "outputs": [
    {
     "name": "stdout",
     "output_type": "stream",
     "text": [
      "Con x = -1 \n",
      "Función: -11.0\n",
      "Gradiente: 18.0\n",
      "----------------------------\n",
      "Con x = 0 \n",
      "Función: -1.0\n",
      "Gradiente: 5.0\n",
      "----------------------------\n",
      "Con x = 2 \n",
      "Función: 25.0\n",
      "Gradiente: 33.0\n",
      "----------------------------\n"
     ]
    }
   ],
   "source": [
    "with tf.device(\"/CPU:0\"):\n",
    "    # x = -1\n",
    "    val = -1\n",
    "    x = tf.Variable(float(val))\n",
    "    with tf.GradientTape() as tape:\n",
    "        tape.watch(x)\n",
    "        f = 3*tf.pow(x,3) - 2*tf.pow(x,2) + 5*x - 1\n",
    "\n",
    "    grad = tape.gradient(f, x)\n",
    "    print(f\"Con x = {val} \")\n",
    "    print(\"Función:\", f.numpy())\n",
    "    print(\"Gradiente:\", grad.numpy())\n",
    "    print(\"----------------------------\")\n",
    "\n",
    "    # x = 0\n",
    "    val = 0\n",
    "    x = tf.Variable(float(val))\n",
    "    with tf.GradientTape() as tape:\n",
    "        tape.watch(x)\n",
    "        f = 3*tf.pow(x,3) - 2*tf.pow(x,2) + 5*x - 1\n",
    "\n",
    "    grad = tape.gradient(f, x)\n",
    "    print(f\"Con x = {val} \")\n",
    "    print(\"Función:\", f.numpy())\n",
    "    print(\"Gradiente:\", grad.numpy())\n",
    "    print(\"----------------------------\")\n",
    "\n",
    "    # x = 2\n",
    "    val = 2\n",
    "    x = tf.Variable(float(val))\n",
    "    with tf.GradientTape() as tape:\n",
    "        tape.watch(x)\n",
    "        f = 3*tf.pow(x,3) - 2*tf.pow(x,2) + 5*x - 1\n",
    "\n",
    "    grad = tape.gradient(f, x)\n",
    "    print(f\"Con x = {val} \")\n",
    "    print(\"Función:\", f.numpy())\n",
    "    print(\"Gradiente:\", grad.numpy())\n",
    "    print(\"----------------------------\")"
   ]
  },
  {
   "cell_type": "markdown",
   "id": "174c6fe9",
   "metadata": {},
   "source": [
    "## Función 2"
   ]
  },
  {
   "cell_type": "code",
   "execution_count": 71,
   "id": "300729b5",
   "metadata": {},
   "outputs": [
    {
     "name": "stdout",
     "output_type": "stream",
     "text": [
      "Con x = 1, y = 1\n",
      "Función: 4.0\n",
      "df/dx: 4.0\n",
      "df/dy: 0.0\n",
      "res [4.0, 0.0]\n",
      "----------------------------\n",
      "Con x = -2, y = 3\n",
      "Función: 17.0\n",
      "df/dx: -6.0\n",
      "df/dy: 10.0\n",
      "res [-6.0, 10.0]\n",
      "----------------------------\n",
      "Con x = 0, y = 0\n",
      "Función: 0.0\n",
      "df/dx: 4.0\n",
      "df/dy: 0.0\n",
      "res [4.0, 0.0]\n",
      "----------------------------\n"
     ]
    }
   ],
   "source": [
    "# x = 1, y = 1\n",
    "with tf.device(\"/CPU:0\"):\n",
    "    val1 = 1\n",
    "    val2 = 1\n",
    "    x = tf.Variable(float(val1))\n",
    "    y = tf.Variable(float(val2))\n",
    "    with tf.GradientTape() as tape:\n",
    "        f = x**2 + y**2 - 2*x*y + 4*x\n",
    "\n",
    "    grad = tape.gradient(f, [x,y])\n",
    "    print(f\"Con x = {val1}, y = {val2}\")\n",
    "    print(\"Función:\", f.numpy())\n",
    "    print(\"df/dx:\", grad[0].numpy())\n",
    "    print(\"df/dy:\", grad[1].numpy())\n",
    "    print(\"res\", [float(grad[0].numpy()), float(grad[1].numpy())])\n",
    "    print(\"----------------------------\")\n",
    "\n",
    "# x = -2, y = 3\n",
    "with tf.device(\"/CPU:0\"):\n",
    "    val1 = -2\n",
    "    val2 = 3\n",
    "    x = tf.Variable(float(val1))\n",
    "    y = tf.Variable(float(val2))\n",
    "    with tf.GradientTape() as tape:\n",
    "        f = x**2 + y**2 - 2*x*y + 4*x\n",
    "\n",
    "    grad = tape.gradient(f, [x,y])\n",
    "    print(f\"Con x = {val1}, y = {val2}\")\n",
    "    print(\"Función:\", f.numpy())\n",
    "    print(\"df/dx:\", grad[0].numpy())\n",
    "    print(\"df/dy:\", grad[1].numpy())\n",
    "    print(\"res\", [float(grad[0].numpy()), float(grad[1].numpy())])\n",
    "    print(\"----------------------------\")\n",
    "\n",
    "# x = 0, y = 0\n",
    "with tf.device(\"/CPU:0\"):\n",
    "    val1 = 0\n",
    "    val2 = 0\n",
    "    x = tf.Variable(float(val1))\n",
    "    y = tf.Variable(float(val2))\n",
    "    with tf.GradientTape() as tape:\n",
    "        f = x**2 + y**2 - 2*x*y + 4*x\n",
    "\n",
    "    grad = tape.gradient(f, [x,y])\n",
    "    print(f\"Con x = {val1}, y = {val2}\")\n",
    "    print(\"Función:\", f.numpy())\n",
    "    print(\"df/dx:\", grad[0].numpy())\n",
    "    print(\"df/dy:\", grad[1].numpy())\n",
    "    print(\"res\", [float(grad[0].numpy()), float(grad[1].numpy())])\n",
    "    print(\"----------------------------\")"
   ]
  },
  {
   "cell_type": "markdown",
   "id": "ed286445",
   "metadata": {},
   "source": [
    "## Función 3"
   ]
  },
  {
   "cell_type": "code",
   "execution_count": 72,
   "id": "ad00c60c",
   "metadata": {},
   "outputs": [
    {
     "name": "stdout",
     "output_type": "stream",
     "text": [
      "Con x = 0\n",
      "Función: 1.0\n",
      "Gradiente: 0.0\n",
      "----------------------------\n",
      "Con x = 0.7853981633974483\n",
      "Función: 1.3103269\n",
      "Gradiente: 2.0582566\n",
      "----------------------------\n",
      "Con x = 0.7853981633974483\n",
      "Función: 1.3103269\n",
      "Gradiente: 2.0582566\n",
      "----------------------------\n"
     ]
    }
   ],
   "source": [
    "# x = 0\n",
    "with tf.device(\"/CPU:0\"):\n",
    "    val = 0\n",
    "    x = tf.Variable(float(val))\n",
    "    with tf.GradientTape() as tape:\n",
    "        f = tf.pow(math.e, tf.pow(-x, 2)) * math.cos(x)\n",
    "\n",
    "    grad = tape.gradient(f, x)\n",
    "    print(f\"Con x = {val}\")\n",
    "    print(\"Función:\", f.numpy())\n",
    "    print(\"Gradiente:\", grad.numpy())\n",
    "    print(\"----------------------------\")\n",
    "\n",
    "# x = pi/4\n",
    "with tf.device(\"/CPU:0\"):\n",
    "    val = math.pi/4\n",
    "    x = tf.Variable(float(val))\n",
    "    with tf.GradientTape() as tape:\n",
    "        f = tf.pow(math.e, tf.pow(-x, 2)) * math.cos(x)\n",
    "\n",
    "    grad = tape.gradient(f, x)\n",
    "    print(f\"Con x = {val}\")\n",
    "    print(\"Función:\", f.numpy())\n",
    "    print(\"Gradiente:\", grad.numpy())\n",
    "    print(\"----------------------------\")\n",
    "\n",
    "# x = 1\n",
    "with tf.device(\"/CPU:0\"):\n",
    "    val = math.pi/4\n",
    "    x = tf.Variable(float(val))\n",
    "    with tf.GradientTape() as tape:\n",
    "        f = tf.pow(math.e, tf.pow(-x, 2)) * math.cos(x)\n",
    "\n",
    "    grad = tape.gradient(f, x)\n",
    "    print(f\"Con x = {val}\")\n",
    "    print(\"Función:\", f.numpy())\n",
    "    print(\"Gradiente:\", grad.numpy())\n",
    "    print(\"----------------------------\")"
   ]
  },
  {
   "cell_type": "markdown",
   "id": "1976b74a",
   "metadata": {},
   "source": [
    "## Función 4"
   ]
  },
  {
   "cell_type": "code",
   "execution_count": 73,
   "id": "c132dfc8",
   "metadata": {},
   "outputs": [
    {
     "name": "stdout",
     "output_type": "stream",
     "text": [
      "Con x = 1, y = 2, z = 3\n",
      "Función: 23.0\n",
      "df/dx: 13.0\n",
      "df/dy: 13.0\n",
      "df/dz: 10.0\n",
      "res: [13.0, 13.0, 10.0]\n",
      "----------------------------\n",
      "Con x = -1, y = 0, z = 1\n",
      "Función: -1.0\n",
      "df/dx: 1.0\n",
      "df/dy: 1.0\n",
      "df/dz: -2.0\n",
      "res: [1.0, 1.0, -2.0]\n",
      "----------------------------\n",
      "Con x = 2, y = 2, z = 2\n",
      "Función: 24.0\n",
      "df/dx: 12.0\n",
      "df/dy: 12.0\n",
      "df/dz: 12.0\n",
      "res: [12.0, 12.0, 12.0]\n",
      "----------------------------\n"
     ]
    }
   ],
   "source": [
    "# x = 1, y = 2, z = 3\n",
    "with tf.device(\"/CPU:0\"):\n",
    "    val1 = 1\n",
    "    val2 = 2\n",
    "    val3 = 3\n",
    "    x = tf.Variable(float(val1))\n",
    "    y = tf.Variable(float(val2))\n",
    "    z = tf.Variable(float(val3))\n",
    "    with tf.GradientTape() as tape:\n",
    "        f = x**2*y + y**2*z + z**2*x\n",
    "\n",
    "    grad = tape.gradient(f, [x,y,z])\n",
    "    print(f\"Con x = {val1}, y = {val2}, z = {val3}\")\n",
    "    print(\"Función:\", f.numpy())\n",
    "    print(\"df/dx:\", grad[0].numpy())\n",
    "    print(\"df/dy:\", grad[1].numpy())\n",
    "    print(\"df/dz:\", grad[2].numpy())\n",
    "    print(\"res:\", [float(grad[0].numpy()), float(grad[1].numpy()), float(grad[2].numpy())])\n",
    "    print(\"----------------------------\")\n",
    "\n",
    "# x = -1, y = 0, z = 1\n",
    "with tf.device(\"/CPU:0\"):\n",
    "    val1 = -1\n",
    "    val2 = 0\n",
    "    val3 = 1\n",
    "    x = tf.Variable(float(val1))\n",
    "    y = tf.Variable(float(val2))\n",
    "    z = tf.Variable(float(val3))\n",
    "    with tf.GradientTape() as tape:\n",
    "        f = x**2*y + y**2*z + z**2*x\n",
    "\n",
    "    grad = tape.gradient(f, [x,y,z])\n",
    "    print(f\"Con x = {val1}, y = {val2}, z = {val3}\")\n",
    "    print(\"Función:\", f.numpy())\n",
    "    print(\"df/dx:\", grad[0].numpy())\n",
    "    print(\"df/dy:\", grad[1].numpy())\n",
    "    print(\"df/dz:\", grad[2].numpy())\n",
    "    print(\"res:\", [float(grad[0].numpy()), float(grad[1].numpy()), float(grad[2].numpy())])\n",
    "    print(\"----------------------------\")\n",
    "\n",
    "# x = 2, y = 2, z = 2\n",
    "with tf.device(\"/CPU:0\"):\n",
    "    val1 = 2\n",
    "    val2 = 2\n",
    "    val3 = 2\n",
    "    x = tf.Variable(float(val1))\n",
    "    y = tf.Variable(float(val2))\n",
    "    z = tf.Variable(float(val3))\n",
    "    with tf.GradientTape() as tape:\n",
    "        f = x**2*y + y**2*z + z**2*x\n",
    "\n",
    "    grad = tape.gradient(f, [x,y,z])\n",
    "    print(f\"Con x = {val1}, y = {val2}, z = {val3}\")\n",
    "    print(\"Función:\", f.numpy())\n",
    "    print(\"df/dx:\", grad[0].numpy())\n",
    "    print(\"df/dy:\", grad[1].numpy())\n",
    "    print(\"df/dz:\", grad[2].numpy())\n",
    "    print(\"res:\", [float(grad[0].numpy()), float(grad[1].numpy()), float(grad[2].numpy())])\n",
    "    print(\"----------------------------\")"
   ]
  },
  {
   "cell_type": "markdown",
   "id": "2d8248f6",
   "metadata": {},
   "source": [
    "## Función 5"
   ]
  },
  {
   "cell_type": "code",
   "execution_count": 74,
   "id": "438765ed",
   "metadata": {},
   "outputs": [
    {
     "name": "stdout",
     "output_type": "stream",
     "text": [
      "Con x = -1\n",
      "Función: -0.21615022\n",
      "Gradiente: -1.8322937\n",
      "----------------------------\n",
      "Con x = 0.5\n",
      "Función: 1.0646145\n",
      "Gradiente: 1.8806045\n",
      "----------------------------\n",
      "Con x = 2\n",
      "Función: 0.85263544\n",
      "Gradiente: -0.5072872\n",
      "----------------------------\n"
     ]
    }
   ],
   "source": [
    "# x = -1\n",
    "with tf.device(\"/CPU:0\"):\n",
    "    val = -1\n",
    "    x = tf.Variable(float(val), dtype=tf.float32)\n",
    "    with tf.GradientTape() as tape:\n",
    "        tape.watch(x)\n",
    "        f = tf.math.log((1 + tf.pow(x,2))) + tf.math.sin(2*x)\n",
    "\n",
    "    grad = tape.gradient(f, x)\n",
    "    print(f\"Con x = {val}\")\n",
    "    print(\"Función:\", f.numpy())\n",
    "    print(\"Gradiente:\", grad.numpy())\n",
    "    print(\"----------------------------\")\n",
    "\n",
    "# x = 0.5\n",
    "with tf.device(\"/CPU:0\"):\n",
    "    val = 0.5\n",
    "    x = tf.Variable(float(val), dtype=tf.float32)\n",
    "    with tf.GradientTape() as tape:\n",
    "        tape.watch(x)\n",
    "        f = tf.math.log((1 + tf.pow(x,2))) + tf.math.sin(2*x)\n",
    "\n",
    "    grad = tape.gradient(f, x)\n",
    "    print(f\"Con x = {val}\")\n",
    "    print(\"Función:\", f.numpy())\n",
    "    print(\"Gradiente:\", grad.numpy())\n",
    "    print(\"----------------------------\")\n",
    "\n",
    "# x = 2\n",
    "with tf.device(\"/CPU:0\"):\n",
    "    val = 2\n",
    "    x = tf.Variable(float(val), dtype=tf.float32)\n",
    "    with tf.GradientTape() as tape:\n",
    "        tape.watch(x)\n",
    "        f = tf.math.log((1 + tf.pow(x,2))) + tf.math.sin(2*x)\n",
    "\n",
    "    grad = tape.gradient(f, x)\n",
    "    print(f\"Con x = {val}\")\n",
    "    print(\"Función:\", f.numpy())\n",
    "    print(\"Gradiente:\", grad.numpy())\n",
    "    print(\"----------------------------\")"
   ]
  },
  {
   "cell_type": "markdown",
   "id": "5319ed8d",
   "metadata": {},
   "source": [
    "# Sección 2: Optimización con Gradient Descent\n",
    "## Funciones para minimizar:\n",
    "### Función 1\n",
    "Con respecto a los resultados vistos, se puede apreciar que al utilizar un learning rate muy grande (learning_rate = 1, nunca converge a nada. Se pasara \"eternamente\" buscando la convergencia.\n",
    "\n",
    "Ahora, ya tenemos resultados exitosos cuando reducimos el learning_rate = 0.1, convergemos en pocas iteraciones. Pero al bajar mucho, hacemos iteraciones de mas, obteniendo los mismos resultados solo que con mayor utilización de poder computacional."
   ]
  },
  {
   "cell_type": "code",
   "execution_count": 38,
   "id": "8eb80b54",
   "metadata": {},
   "outputs": [
    {
     "data": {
      "image/png": "[encoded data removed]",
      "text/plain": [
       "<Figure size 640x480 with 1 Axes>"
      ]
     },
     "metadata": {},
     "output_type": "display_data"
    },
    {
     "data": {
      "image/png": "[encoded data removed]",
      "text/plain": [
       "<Figure size 640x480 with 1 Axes>"
      ]
     },
     "metadata": {},
     "output_type": "display_data"
    },
    {
     "data": {
      "image/png": "[encoded data removed]",
      "text/plain": [
       "<Figure size 640x480 with 1 Axes>"
      ]
     },
     "metadata": {},
     "output_type": "display_data"
    }
   ],
   "source": [
    "# Parameters\n",
    "val = 10\n",
    "x_f = 3.0\n",
    "min_dif = 0.001\n",
    "general_iteration_limit = 10_000\n",
    "\n",
    "def optimize_gradient(learning_rate, iteration_limit):\n",
    "    with tf.device(\"/CPU:0\"):\n",
    "        history = []\n",
    "        x = tf.Variable(float(val))\n",
    "        step_count = 1\n",
    "        for step in range(iteration_limit):\n",
    "            with tf.GradientTape() as tape:\n",
    "                f = tf.pow((x - 3), 2) + 5\n",
    "            \n",
    "            grad = tape.gradient(f, x)\n",
    "            new_x = x - learning_rate * grad\n",
    "            x.assign(new_x)\n",
    "            history.append(x.numpy())\n",
    "            \n",
    "            if tf.abs(grad) < min_dif:\n",
    "                break\n",
    "            \n",
    "            step_count += 1\n",
    "        plt.plot(history)\n",
    "        plt.plot([0, step_count], [x_f, x_f])\n",
    "        plt.show() \n",
    "\n",
    "# 1\n",
    "# learning_rate = 1\n",
    "optimize_gradient(1, general_iteration_limit)\n",
    "\n",
    "# 2\n",
    "# learning_rate = 0.1\n",
    "optimize_gradient(0.1, general_iteration_limit)\n",
    "\n",
    "# 3\n",
    "# learning_rate = 0.005\n",
    "optimize_gradient(0.005, general_iteration_limit)"
   ]
  },
  {
   "cell_type": "markdown",
   "id": "3fb2a7f8",
   "metadata": {},
   "source": [
    "### Función 2\n",
    "\n"
   ]
  },
  {
   "cell_type": "code",
   "execution_count": null,
   "id": "17b0bd57",
   "metadata": {},
   "outputs": [],
   "source": []
  }
 ],
 "metadata": {
  "kernelspec": {
   "display_name": "venv (3.12.3)",
   "language": "python",
   "name": "python3"
  },
  "language_info": {
   "codemirror_mode": {
    "name": "ipython",
    "version": 3
   },
   "file_extension": ".py",
   "mimetype": "text/x-python",
   "name": "python",
   "nbconvert_exporter": "python",
   "pygments_lexer": "ipython3",
   "version": "3.12.3"
  }
 },
 "nbformat": 4,
 "nbformat_minor": 5
}
